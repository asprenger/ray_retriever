{
 "cells": [
  {
   "cell_type": "code",
   "execution_count": 1,
   "id": "0e8000df-fa00-4776-9062-887145a8bbdf",
   "metadata": {},
   "outputs": [],
   "source": [
    "import yaml\n",
    "from pydantic import BaseModel\n",
    "from datasets import Dataset\n",
    "from ragas.metrics import (\n",
    "    answer_relevancy,\n",
    "    faithfulness,\n",
    "    context_recall,\n",
    "    context_precision,\n",
    "    context_utilization\n",
    ")\n",
    "from ragas import evaluate\n",
    "from ray_retriever.client import sdk\n"
   ]
  },
  {
   "cell_type": "code",
   "execution_count": 3,
   "id": "6d7f517b-ba74-4c9e-8c7f-cc2d75e667d8",
   "metadata": {},
   "outputs": [
    {
     "name": "stdout",
     "output_type": "stream",
     "text": [
      "Dataset({\n",
      "    features: ['question', 'contexts', 'answer'],\n",
      "    num_rows: 5\n",
      "})\n"
     ]
    }
   ],
   "source": [
    "ds = Dataset.load_from_disk('/tmp/eval_dataset')\n",
    "print(ds)"
   ]
  },
  {
   "cell_type": "code",
   "execution_count": 4,
   "id": "3245ddfd-9757-4e4b-9e34-51f6bf753fd0",
   "metadata": {},
   "outputs": [
    {
     "name": "stderr",
     "output_type": "stream",
     "text": [
      "Using 'context_precision' without ground truth will be soon depreciated. Use 'context_utilization' instead\n",
      "Using 'context_precision' without ground truth will be soon depreciated. Use 'context_utilization' instead\n",
      "Using 'context_precision' without ground truth will be soon depreciated. Use 'context_utilization' instead\n",
      "Using 'context_precision' without ground truth will be soon depreciated. Use 'context_utilization' instead\n",
      "Using 'context_precision' without ground truth will be soon depreciated. Use 'context_utilization' instead\n"
     ]
    },
    {
     "data": {
      "application/vnd.jupyter.widget-view+json": {
       "model_id": "98a24639904d49518f7a4b0fede01d66",
       "version_major": 2,
       "version_minor": 0
      },
      "text/plain": [
       "Evaluating:   0%|          | 0/15 [00:00<?, ?it/s]"
      ]
     },
     "metadata": {},
     "output_type": "display_data"
    },
    {
     "name": "stdout",
     "output_type": "stream",
     "text": [
      "{'faithfulness': 0.7500, 'answer_relevancy': 0.9845, 'context_utilization': 0.8333}\n"
     ]
    }
   ],
   "source": [
    "result = evaluate(\n",
    "    ds,\n",
    "    metrics=[\n",
    "        #context_precision,\n",
    "        faithfulness,\n",
    "        answer_relevancy,\n",
    "        context_utilization,\n",
    "        #context_recall,\n",
    "    ],\n",
    ")\n",
    "\n",
    "print(result)\n"
   ]
  },
  {
   "cell_type": "code",
   "execution_count": 5,
   "id": "7168628e-9787-464b-9831-47fb41170ea4",
   "metadata": {},
   "outputs": [
    {
     "data": {
      "text/html": [
       "<div>\n",
       "<style scoped>\n",
       "    .dataframe tbody tr th:only-of-type {\n",
       "        vertical-align: middle;\n",
       "    }\n",
       "\n",
       "    .dataframe tbody tr th {\n",
       "        vertical-align: top;\n",
       "    }\n",
       "\n",
       "    .dataframe thead th {\n",
       "        text-align: right;\n",
       "    }\n",
       "</style>\n",
       "<table border=\"1\" class=\"dataframe\">\n",
       "  <thead>\n",
       "    <tr style=\"text-align: right;\">\n",
       "      <th></th>\n",
       "      <th>question</th>\n",
       "      <th>contexts</th>\n",
       "      <th>answer</th>\n",
       "      <th>faithfulness</th>\n",
       "      <th>answer_relevancy</th>\n",
       "      <th>context_utilization</th>\n",
       "    </tr>\n",
       "  </thead>\n",
       "  <tbody>\n",
       "    <tr>\n",
       "      <th>0</th>\n",
       "      <td>What was the first capital of France?</td>\n",
       "      <td>[Capital of France\\nParis (1879–1914, 1914-194...</td>\n",
       "      <td>The first capital of France was Tournai, which...</td>\n",
       "      <td>NaN</td>\n",
       "      <td>0.999999</td>\n",
       "      <td>0.333333</td>\n",
       "    </tr>\n",
       "    <tr>\n",
       "      <th>1</th>\n",
       "      <td>What was Alan Turings middle name?</td>\n",
       "      <td>[Alan Turing\\nAlan Mathison Turing OBE FRS (Lo...</td>\n",
       "      <td>Alan Turing's middle name was Mathison.</td>\n",
       "      <td>0.0</td>\n",
       "      <td>0.960905</td>\n",
       "      <td>1.000000</td>\n",
       "    </tr>\n",
       "    <tr>\n",
       "      <th>2</th>\n",
       "      <td>Where and when has Alan turing been born?</td>\n",
       "      <td>[Alan Turing\\nAlan Mathison Turing OBE FRS (Lo...</td>\n",
       "      <td>Alan Turing was born in Maida Vale, London, on...</td>\n",
       "      <td>1.0</td>\n",
       "      <td>0.961720</td>\n",
       "      <td>0.833333</td>\n",
       "    </tr>\n",
       "    <tr>\n",
       "      <th>3</th>\n",
       "      <td>What is the shape of a cube?</td>\n",
       "      <td>[Cube\\nA cube is a type of polyhedron with all...</td>\n",
       "      <td>The shape of a cube is a 3D solid object with ...</td>\n",
       "      <td>1.0</td>\n",
       "      <td>1.000000</td>\n",
       "      <td>1.000000</td>\n",
       "    </tr>\n",
       "    <tr>\n",
       "      <th>4</th>\n",
       "      <td>How many sides does a cube have?</td>\n",
       "      <td>[Rubik's Cube\\nRubik's Cube is a puzzle cube, ...</td>\n",
       "      <td>The cube has 6 sides.</td>\n",
       "      <td>1.0</td>\n",
       "      <td>0.999999</td>\n",
       "      <td>1.000000</td>\n",
       "    </tr>\n",
       "  </tbody>\n",
       "</table>\n",
       "</div>"
      ],
      "text/plain": [
       "                                    question  \\\n",
       "0      What was the first capital of France?   \n",
       "1         What was Alan Turings middle name?   \n",
       "2  Where and when has Alan turing been born?   \n",
       "3               What is the shape of a cube?   \n",
       "4           How many sides does a cube have?   \n",
       "\n",
       "                                            contexts  \\\n",
       "0  [Capital of France\\nParis (1879–1914, 1914-194...   \n",
       "1  [Alan Turing\\nAlan Mathison Turing OBE FRS (Lo...   \n",
       "2  [Alan Turing\\nAlan Mathison Turing OBE FRS (Lo...   \n",
       "3  [Cube\\nA cube is a type of polyhedron with all...   \n",
       "4  [Rubik's Cube\\nRubik's Cube is a puzzle cube, ...   \n",
       "\n",
       "                                              answer  faithfulness  \\\n",
       "0  The first capital of France was Tournai, which...           NaN   \n",
       "1            Alan Turing's middle name was Mathison.           0.0   \n",
       "2  Alan Turing was born in Maida Vale, London, on...           1.0   \n",
       "3  The shape of a cube is a 3D solid object with ...           1.0   \n",
       "4                              The cube has 6 sides.           1.0   \n",
       "\n",
       "   answer_relevancy  context_utilization  \n",
       "0          0.999999             0.333333  \n",
       "1          0.960905             1.000000  \n",
       "2          0.961720             0.833333  \n",
       "3          1.000000             1.000000  \n",
       "4          0.999999             1.000000  "
      ]
     },
     "execution_count": 5,
     "metadata": {},
     "output_type": "execute_result"
    }
   ],
   "source": [
    "df = result.to_pandas()\n",
    "df.head()"
   ]
  }
 ],
 "metadata": {
  "kernelspec": {
   "display_name": "Python 3 (ipykernel)",
   "language": "python",
   "name": "python3"
  },
  "language_info": {
   "codemirror_mode": {
    "name": "ipython",
    "version": 3
   },
   "file_extension": ".py",
   "mimetype": "text/x-python",
   "name": "python",
   "nbconvert_exporter": "python",
   "pygments_lexer": "ipython3",
   "version": "3.10.12"
  }
 },
 "nbformat": 4,
 "nbformat_minor": 5
}

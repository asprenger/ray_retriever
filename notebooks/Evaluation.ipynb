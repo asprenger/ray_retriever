{
 "cells": [
  {
   "cell_type": "markdown",
   "id": "960cd934-c389-453d-8362-86f15670065b",
   "metadata": {},
   "source": [
    "[Ragas Metrics](https://docs.ragas.io/en/stable/concepts/metrics/index.html)"
   ]
  },
  {
   "cell_type": "code",
   "execution_count": 7,
   "id": "0e8000df-fa00-4776-9062-887145a8bbdf",
   "metadata": {},
   "outputs": [],
   "source": [
    "from datasets import Dataset\n",
    "from ragas.metrics import (\n",
    "    answer_relevancy,\n",
    "    faithfulness,\n",
    "    context_recall,\n",
    "    context_precision,\n",
    "    context_utilization,\n",
    "    context_relevancy\n",
    ")\n",
    "from ragas import evaluate"
   ]
  },
  {
   "cell_type": "code",
   "execution_count": 2,
   "id": "6d7f517b-ba74-4c9e-8c7f-cc2d75e667d8",
   "metadata": {},
   "outputs": [
    {
     "name": "stdout",
     "output_type": "stream",
     "text": [
      "Dataset({\n",
      "    features: ['question', 'contexts', 'answer'],\n",
      "    num_rows: 4\n",
      "})\n"
     ]
    }
   ],
   "source": [
    "eval_dataset_path = '/tmp/eval_dataset'\n",
    "ds = Dataset.load_from_disk(eval_dataset_path)\n",
    "print(ds)"
   ]
  },
  {
   "cell_type": "code",
   "execution_count": 8,
   "id": "3245ddfd-9757-4e4b-9e34-51f6bf753fd0",
   "metadata": {},
   "outputs": [
    {
     "name": "stderr",
     "output_type": "stream",
     "text": [
      "Using 'context_precision' without ground truth will be soon depreciated. Use 'context_utilization' instead\n",
      "Using 'context_precision' without ground truth will be soon depreciated. Use 'context_utilization' instead\n",
      "Using 'context_precision' without ground truth will be soon depreciated. Use 'context_utilization' instead\n",
      "Using 'context_precision' without ground truth will be soon depreciated. Use 'context_utilization' instead\n"
     ]
    },
    {
     "data": {
      "application/vnd.jupyter.widget-view+json": {
       "model_id": "1354418247214f6bbebe9f7735626c30",
       "version_major": 2,
       "version_minor": 0
      },
      "text/plain": [
       "Evaluating:   0%|          | 0/16 [00:00<?, ?it/s]"
      ]
     },
     "metadata": {},
     "output_type": "display_data"
    },
    {
     "name": "stdout",
     "output_type": "stream",
     "text": [
      "{'faithfulness': 0.7500, 'answer_relevancy': 0.9821, 'context_utilization': 0.9583, 'context_relevancy': 0.0582}\n"
     ]
    }
   ],
   "source": [
    "metrics=[\n",
    "    faithfulness,\n",
    "    answer_relevancy,\n",
    "    context_utilization,\n",
    "    context_relevancy,\n",
    "    #context_precision,\n",
    "    #context_recall,\n",
    "]\n",
    "\n",
    "result = evaluate(ds, metrics=metrics)\n",
    "print(result)"
   ]
  },
  {
   "cell_type": "code",
   "execution_count": 9,
   "id": "1987770c-d74c-4a95-96e3-bf6d205f90c6",
   "metadata": {},
   "outputs": [
    {
     "data": {
      "text/html": [
       "<div>\n",
       "<style scoped>\n",
       "    .dataframe tbody tr th:only-of-type {\n",
       "        vertical-align: middle;\n",
       "    }\n",
       "\n",
       "    .dataframe tbody tr th {\n",
       "        vertical-align: top;\n",
       "    }\n",
       "\n",
       "    .dataframe thead th {\n",
       "        text-align: right;\n",
       "    }\n",
       "</style>\n",
       "<table border=\"1\" class=\"dataframe\">\n",
       "  <thead>\n",
       "    <tr style=\"text-align: right;\">\n",
       "      <th></th>\n",
       "      <th>question</th>\n",
       "      <th>contexts</th>\n",
       "      <th>answer</th>\n",
       "      <th>faithfulness</th>\n",
       "      <th>answer_relevancy</th>\n",
       "      <th>context_utilization</th>\n",
       "      <th>context_relevancy</th>\n",
       "    </tr>\n",
       "  </thead>\n",
       "  <tbody>\n",
       "    <tr>\n",
       "      <th>0</th>\n",
       "      <td>What was Alan Turings middle name?</td>\n",
       "      <td>[Alan Turing\\nAlan Mathison Turing OBE FRS (Lo...</td>\n",
       "      <td>Alan Turing's middle name was Mathison.</td>\n",
       "      <td>0.0</td>\n",
       "      <td>0.960899</td>\n",
       "      <td>1.000000</td>\n",
       "      <td>0.120000</td>\n",
       "    </tr>\n",
       "    <tr>\n",
       "      <th>1</th>\n",
       "      <td>Where and when has Alan turing been born?</td>\n",
       "      <td>[Alan Turing\\nAlan Mathison Turing OBE FRS (Lo...</td>\n",
       "      <td>Alan Turing was born in Maida Vale, London, on...</td>\n",
       "      <td>1.0</td>\n",
       "      <td>0.967445</td>\n",
       "      <td>0.833333</td>\n",
       "      <td>0.064935</td>\n",
       "    </tr>\n",
       "    <tr>\n",
       "      <th>2</th>\n",
       "      <td>What is the shape of a cube?</td>\n",
       "      <td>[Cube\\nA cube is a type of polyhedron with all...</td>\n",
       "      <td>The shape of a cube is a 3D solid object with ...</td>\n",
       "      <td>1.0</td>\n",
       "      <td>1.000000</td>\n",
       "      <td>1.000000</td>\n",
       "      <td>0.018868</td>\n",
       "    </tr>\n",
       "    <tr>\n",
       "      <th>3</th>\n",
       "      <td>How many sides does a cube have?</td>\n",
       "      <td>[Rubik's Cube\\nRubik's Cube is a puzzle cube, ...</td>\n",
       "      <td>The cube has 6 sides.</td>\n",
       "      <td>1.0</td>\n",
       "      <td>1.000000</td>\n",
       "      <td>1.000000</td>\n",
       "      <td>0.028986</td>\n",
       "    </tr>\n",
       "  </tbody>\n",
       "</table>\n",
       "</div>"
      ],
      "text/plain": [
       "                                    question  \\\n",
       "0         What was Alan Turings middle name?   \n",
       "1  Where and when has Alan turing been born?   \n",
       "2               What is the shape of a cube?   \n",
       "3           How many sides does a cube have?   \n",
       "\n",
       "                                            contexts  \\\n",
       "0  [Alan Turing\\nAlan Mathison Turing OBE FRS (Lo...   \n",
       "1  [Alan Turing\\nAlan Mathison Turing OBE FRS (Lo...   \n",
       "2  [Cube\\nA cube is a type of polyhedron with all...   \n",
       "3  [Rubik's Cube\\nRubik's Cube is a puzzle cube, ...   \n",
       "\n",
       "                                              answer  faithfulness  \\\n",
       "0            Alan Turing's middle name was Mathison.           0.0   \n",
       "1  Alan Turing was born in Maida Vale, London, on...           1.0   \n",
       "2  The shape of a cube is a 3D solid object with ...           1.0   \n",
       "3                              The cube has 6 sides.           1.0   \n",
       "\n",
       "   answer_relevancy  context_utilization  context_relevancy  \n",
       "0          0.960899             1.000000           0.120000  \n",
       "1          0.967445             0.833333           0.064935  \n",
       "2          1.000000             1.000000           0.018868  \n",
       "3          1.000000             1.000000           0.028986  "
      ]
     },
     "execution_count": 9,
     "metadata": {},
     "output_type": "execute_result"
    }
   ],
   "source": [
    "df = result.to_pandas()\n",
    "df.head()"
   ]
  }
 ],
 "metadata": {
  "kernelspec": {
   "display_name": "Python 3 (ipykernel)",
   "language": "python",
   "name": "python3"
  },
  "language_info": {
   "codemirror_mode": {
    "name": "ipython",
    "version": 3
   },
   "file_extension": ".py",
   "mimetype": "text/x-python",
   "name": "python",
   "nbconvert_exporter": "python",
   "pygments_lexer": "ipython3",
   "version": "3.10.12"
  }
 },
 "nbformat": 4,
 "nbformat_minor": 5
}
